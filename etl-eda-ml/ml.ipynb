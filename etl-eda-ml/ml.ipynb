{
 "cells": [
  {
   "cell_type": "markdown",
   "metadata": {},
   "source": [
    "# ML"
   ]
  },
  {
   "cell_type": "code",
   "execution_count": null,
   "metadata": {},
   "outputs": [],
   "source": [
    "import pandas as pd\n",
    "import joblib\n",
    "from sklearn.feature_extraction.text import TfidfVectorizer\n",
    "import re\n",
    "from nltk.corpus import stopwords\n",
    "\n",
    "# Descargamos stopwords si no están disponibles\n",
    "import nltk\n",
    "nltk.download('stopwords')\n",
    "\n",
    "# Función de preprocesamiento del texto\n",
    "def preprocess_text(text):\n",
    "    # Eliminamos caracteres especiales y puntuación\n",
    "    text = re.sub(r'[^\\w\\s]', '', text)\n",
    "    # Convertimos a minúsculas\n",
    "    text = text.lower()\n",
    "    # Se eliminan stopwords\n",
    "    stop_words = set(stopwords.words('english'))\n",
    "    text = ' '.join(word for word in text.split() if word not in stop_words)\n",
    "    return text\n",
    "\n",
    "# Se carga el dataset\n",
    "df = pd.read_csv('/content/dataset_limpio.csv')"
   ]
  },
  {
   "cell_type": "markdown",
   "metadata": {},
   "source": [
    "### Aplicaciones"
   ]
  },
  {
   "cell_type": "code",
   "execution_count": null,
   "metadata": {},
   "outputs": [],
   "source": [
    "# Aplicamos el preprocesamiento al título en base a la \"nube de palabras\"\n",
    "df['title_processed'] = df['title'].apply(preprocess_text)\n",
    "\n",
    "# Vectorización\n",
    "tfidf = TfidfVectorizer(stop_words='english')\n",
    "tfidf_matrix = tfidf.fit_transform(df['title_processed'])\n",
    "\n",
    "# Guardamos el DataFrame y el modelo entrenado\n",
    "df.to_csv('/content/trabajo/recursosApi/dataframe_procesado.csv', index=False)\n",
    "joblib.dump(tfidf, 'tfidf_vectorizer.joblib')\n",
    "joblib.dump(tfidf_matrix, 'tfidf_matrix.joblib')\n"
   ]
  },
  {
   "cell_type": "markdown",
   "metadata": {},
   "source": [
    "##### Este proceso asegura que los títulos de las películas se preprocesen adecuadamente y se vectoricen en una representación que puede ser utilizada para tareas de Machine Learning, como la recomendación de películas."
   ]
  },
  {
   "cell_type": "markdown",
   "metadata": {},
   "source": [
    "#### Este ML fue realizado en Colab de Google"
   ]
  }
 ],
 "metadata": {
  "language_info": {
   "name": "python"
  }
 },
 "nbformat": 4,
 "nbformat_minor": 2
}
